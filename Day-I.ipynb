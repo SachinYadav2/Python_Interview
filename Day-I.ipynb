{
 "cells": [
  {
   "cell_type": "code",
   "execution_count": 1,
   "id": "337a1bc6",
   "metadata": {},
   "outputs": [
    {
     "name": "stdout",
     "output_type": "stream",
     "text": [
      "Python 3.9.13\r\n"
     ]
    }
   ],
   "source": [
    "!python -V"
   ]
  },
  {
   "cell_type": "code",
   "execution_count": 1,
   "id": "f1615715",
   "metadata": {},
   "outputs": [
    {
     "name": "stdout",
     "output_type": "stream",
     "text": [
      "Sum of 15 and 12 is 27\n"
     ]
    }
   ],
   "source": [
    "# Python3 program to add two numbers\n",
    "\n",
    "num1 = 15\n",
    "num2 = 12\n",
    "\n",
    "# Adding two nos\n",
    "sum = num1 + num2\n",
    "\n",
    "# printing values\n",
    "print(\"Sum of {0} and {1} is {2}\" .format(num1, num2, sum))\n"
   ]
  },
  {
   "cell_type": "code",
   "execution_count": 4,
   "id": "a0eeb9a3",
   "metadata": {},
   "outputs": [
    {
     "name": "stdout",
     "output_type": "stream",
     "text": [
      "First number: 212\n",
      "\n",
      "Second number: 121\n",
      "The sum of 212 and 121 is 333.0\n"
     ]
    }
   ],
   "source": [
    "# Python3 program to add two numbers\n",
    "\n",
    "number1 = input(\"First number: \")\n",
    "number2 = input(\"\\nSecond number: \")\n",
    "\n",
    "# Adding two numbers\n",
    "# User might also enter float numbers\n",
    "sum = float(number1) + float(number2)\n",
    "\n",
    "# Display the sum\n",
    "# will print value in float\n",
    "print(\"The sum of {0} and {1} is {2}\" .format(number1, number2, sum))\n"
   ]
  },
  {
   "cell_type": "code",
   "execution_count": 3,
   "id": "9ff99a58",
   "metadata": {},
   "outputs": [
    {
     "name": "stdout",
     "output_type": "stream",
     "text": [
      "Enter the first number: 6\n",
      "Enter the second number: 3\n",
      "Quotient is: 2\n",
      "Remainder is: 0\n"
     ]
    }
   ],
   "source": [
    "# Write a program to Read Two Numbers and Print Their Quotient and Remainder.\n",
    "a=int(input(\"Enter the first number: \"))\n",
    "b=int(input(\"Enter the second number: \"))\n",
    "quotient=a//b\n",
    "remainder=a%b\n",
    "print(\"Quotient is:\",quotient)\n",
    "print(\"Remainder is:\",remainder)"
   ]
  },
  {
   "cell_type": "code",
   "execution_count": 4,
   "id": "1b1dcb4e",
   "metadata": {},
   "outputs": [
    {
     "name": "stdout",
     "output_type": "stream",
     "text": [
      "Enter first number: 10\n",
      "Enter second number: 10\n",
      "Enter third number: 10\n",
      "The average of numbers = 10.00\n"
     ]
    }
   ],
   "source": [
    "# Python program to find average of three numbers\n",
    "\n",
    "# take inputs\n",
    "num1 = float(input('Enter first number: '))\n",
    "num2 = float(input('Enter second number: '))\n",
    "num3 = float(input('Enter third number: '))\n",
    "\n",
    "# calculate average\n",
    "avg = (num1 + num2 + num3)/3\n",
    "\n",
    "# display result\n",
    "print('The average of numbers = %0.2f' %avg)"
   ]
  },
  {
   "cell_type": "code",
   "execution_count": 5,
   "id": "2dd1f5db",
   "metadata": {},
   "outputs": [
    {
     "name": "stdout",
     "output_type": "stream",
     "text": [
      "Enter the marks of five subjects::\n",
      "100\n",
      "100\n",
      "98\n",
      "78\n",
      "80\n",
      "\n",
      "The Total marks is:   \t 456.0 / 500.00\n",
      "\n",
      "The Average marks is: \t 91.2\n",
      "\n",
      "The Percentage is:    \t 91.2 %\n",
      "\n",
      "The Grade is:         \t A\n"
     ]
    }
   ],
   "source": [
    "# Python Program to Calculate Total Marks Percentage and Grade of a Student\n",
    "\n",
    "print(\"Enter the marks of five subjects::\")\n",
    "\n",
    "subject_1 = float (input ())\n",
    "subject_2 = float (input ())\n",
    "subject_3 = float (input ())\n",
    "subject_4 = float (input ())\n",
    "subject_5 = float (input ())\n",
    "\n",
    "total, average, percentage, grade = None, None, None, None\n",
    "\n",
    "# It will calculate the Total, Average and Percentage\n",
    "total = subject_1 + subject_2 + subject_3 + subject_4 + subject_5\n",
    "average = total / 5.0\n",
    "percentage = (total / 500.0) * 100\n",
    "\n",
    "if average >= 90:\n",
    "    grade = 'A'\n",
    "elif average >= 80 and average < 90:\n",
    "    grade = 'B'\n",
    "elif average >= 70 and average < 80:\n",
    "    grade = 'C'\n",
    "elif average >= 60 and average < 70:\n",
    "    grade = 'D'\n",
    "else:\n",
    "    grade = 'E'\n",
    "\n",
    "# It will produce the final output\n",
    "print (\"\\nThe Total marks is:   \\t\", total, \"/ 500.00\")\n",
    "print (\"\\nThe Average marks is: \\t\", average)\n",
    "print (\"\\nThe Percentage is:    \\t\", percentage, \"%\")\n",
    "print (\"\\nThe Grade is:         \\t\", grade)"
   ]
  },
  {
   "cell_type": "code",
   "execution_count": 6,
   "id": "874e014a",
   "metadata": {},
   "outputs": [
    {
     "name": "stdout",
     "output_type": "stream",
     "text": [
      "Enter your basic salary :\n",
      "15600\n",
      "Your Gross Salary is:  27300.0\n"
     ]
    }
   ],
   "source": [
    "# Write a program to find gross salary\n",
    "bs=float(input(\"Enter your basic salary :\\n\"))\n",
    "da=bs*0.6\n",
    "hra=bs*0.15\n",
    "gs=bs+da+hra\n",
    "print(\"Your Gross Salary is: \",gs)"
   ]
  },
  {
   "cell_type": "code",
   "execution_count": null,
   "id": "bb793234",
   "metadata": {},
   "outputs": [],
   "source": [
    "#\n",
    "# function computes the gross salary from basic salary.                                                                                                                                           \n",
    "def calcualte_gross_salary(basic_salary):                                       \n",
    "    hra = 0;                                                                    \n",
    "    da = 0;     \n",
    "    # salary is less than 2500, hra and da is calculated using this logic, otherwise else logic.                                                                \n",
    "    if (basic_salary < 2500):                                                   \n",
    "        hra = (basic_salary * 10) / 100;                                        \n",
    "        da = (basic_salary * 90) / 100;                                         \n",
    "    else:                                                                       \n",
    "        hra = 1000;                                                             \n",
    "        da = (basic_salary * 95) / 100;                                         \n",
    "                                                                                \n",
    "    return (basic_salary + hra + da);                                           \n",
    "if __name__ == \"__main__\":  \n",
    "    # Type casting from input string into float value.                                                    \n",
    "    basic_salary = float(input(\"Enter basic salary: \"));                        \n",
    "    gross_salary = calcualte_gross_salary(basic_salary);                        \n",
    "    print(\"Gross Salary is: %f\" % gross_salary);  "
   ]
  },
  {
   "cell_type": "code",
   "execution_count": 12,
   "id": "37ccea62",
   "metadata": {},
   "outputs": [
    {
     "name": "stdout",
     "output_type": "stream",
     "text": [
      "Area is 78.550000\n"
     ]
    }
   ],
   "source": [
    "# Python program to find Area of a circle\n",
    "\n",
    "def findArea(r):\n",
    "\tPI = 3.142\n",
    "\treturn PI * (r*r);\n",
    "\n",
    "# Driver method\n",
    "print(\"Area is %.6f\" % findArea(5));\n",
    "\n"
   ]
  },
  {
   "cell_type": "code",
   "execution_count": 13,
   "id": "0a380e34",
   "metadata": {},
   "outputs": [
    {
     "name": "stdout",
     "output_type": "stream",
     "text": [
      "Please enter the radius of the given circle: 3\n",
      " The area of the given circle is:  28.274333882308138\n"
     ]
    }
   ],
   "source": [
    "import math as M  \n",
    "Radius = float (input (\"Please enter the radius of the given circle: \"))  \n",
    "area_of_the_circle = M.pi* Radius * Radius  \n",
    "print (\" The area of the given circle is: \", area_of_the_circle)  "
   ]
  },
  {
   "cell_type": "code",
   "execution_count": 14,
   "id": "d0a9b1bd",
   "metadata": {},
   "outputs": [
    {
     "name": "stdout",
     "output_type": "stream",
     "text": [
      "Please enter the radius of the given circle: 3\n",
      " The area of the given circle is:  28.259999999999998\n"
     ]
    }
   ],
   "source": [
    "π = 3.14  \n",
    "Radius = float (input (\"Please enter the radius of the given circle: \"))  \n",
    "area_of_the_circle = π * Radius * Radius  \n",
    "print (\" The area of the given circle is: \", area_of_the_circle)  \n"
   ]
  },
  {
   "cell_type": "code",
   "execution_count": 1,
   "id": "0db4269e",
   "metadata": {},
   "outputs": [
    {
     "name": "stdout",
     "output_type": "stream",
     "text": [
      "Please enter the radius of the given circle: 3\n",
      " The area of the given circle is:  28.259999999999998\n"
     ]
    }
   ],
   "source": [
    "π = 3.14  \n",
    "Radius = float (input (\"Please enter the radius of the given circle: \"))  \n",
    "area_of_the_circle = π * Radius * Radius  \n",
    "print (\" The area of the given circle is: \", area_of_the_circle)  \n"
   ]
  },
  {
   "cell_type": "code",
   "execution_count": 2,
   "id": "10eff9a8",
   "metadata": {},
   "outputs": [
    {
     "name": "stdout",
     "output_type": "stream",
     "text": [
      "Area of rectangle =  10\n"
     ]
    }
   ],
   "source": [
    "# python program to find area of rectangle\n",
    "\n",
    "# take inputs\n",
    "length = 2\n",
    "width = 5\n",
    "\n",
    "# calculate area of rectangle\n",
    "area = length * width\n",
    "\n",
    "# display result\n",
    "print('Area of rectangle = ',area)"
   ]
  },
  {
   "cell_type": "code",
   "execution_count": 3,
   "id": "76d41bfe",
   "metadata": {},
   "outputs": [
    {
     "name": "stdout",
     "output_type": "stream",
     "text": [
      "Area of a Rectangle is: 48.00\n"
     ]
    }
   ],
   "source": [
    "def AreaofRectangle(width, height):\n",
    "    Area = width * height\n",
    "    print(\"Area of a Rectangle is: %.2f\" %Area)\n",
    "AreaofRectangle(8, 6)"
   ]
  },
  {
   "cell_type": "code",
   "execution_count": 4,
   "id": "9e2eacb3",
   "metadata": {},
   "outputs": [
    {
     "name": "stdout",
     "output_type": "stream",
     "text": [
      "16\n"
     ]
    }
   ],
   "source": [
    "# Calculate Area of Square\n",
    "# Python3 code to find\n",
    "# the area of the square\n",
    "\n",
    "def areaSquare( side ):\n",
    "\tarea = side * side\n",
    "\treturn area\n",
    "\n",
    "# Driver Code\n",
    "side = 4\n",
    "print(areaSquare(side))\n",
    "\n"
   ]
  },
  {
   "cell_type": "code",
   "execution_count": 5,
   "id": "f5f237d8",
   "metadata": {},
   "outputs": [
    {
     "name": "stdout",
     "output_type": "stream",
     "text": [
      "Enter the Side Length of Square: \n",
      "3\n",
      "\n",
      "Area =  9.0\n"
     ]
    }
   ],
   "source": [
    "print(\"Enter the Side Length of Square: \")\n",
    "l = float(input())\n",
    "a = l*l    \n",
    "print(\"\\nArea = \", a)\n"
   ]
  },
  {
   "cell_type": "code",
   "execution_count": 6,
   "id": "2e831807",
   "metadata": {},
   "outputs": [
    {
     "name": "stdout",
     "output_type": "stream",
     "text": [
      "Enter the radius of a circle: 3\n",
      " Area of a circle:  28.259999999999998\n",
      " Circumference of a circle: 18.84\n"
     ]
    }
   ],
   "source": [
    "#To find Area and Circumference of a Circle\n",
    "pi = 3.14;\n",
    "radius = int(input('Enter the radius of a circle: '));\n",
    "area = pi * radius * radius;\n",
    "circumference= 2 * pi * radius;\n",
    "\n",
    "print(\" Area of a circle: \" ,area);\n",
    "print(\" Circumference of a circle: %.2f\" %circumference);"
   ]
  },
  {
   "cell_type": "code",
   "execution_count": 7,
   "id": "8f369018",
   "metadata": {},
   "outputs": [
    {
     "name": "stdout",
     "output_type": "stream",
     "text": [
      "Enter first side: 3\n",
      "Enter second side: 4\n",
      "Enter third side: 5\n",
      "The area of the triangle is 6.00\n"
     ]
    }
   ],
   "source": [
    "# Area of a triangle = (s*(s-a)*(s-b)*(s-c))-1/2\n",
    "# Three sides of the triangle is a, b and c:  \n",
    "a = float(input('Enter first side: ')); \n",
    "b = float(input('Enter second side: '));  \n",
    "c = float(input('Enter third side: '));\n",
    "  \n",
    "# calculate the semi-perimeter  \n",
    "s = (a + b + c) / 2;\n",
    "  \n",
    "# calculate the area  \n",
    "area = (s*(s-a)*(s-b)*(s-c)) ** 0.5;  \n",
    "print('The area of the triangle is %0.2f' %area);  "
   ]
  },
  {
   "cell_type": "code",
   "execution_count": 8,
   "id": "fc2a3a33",
   "metadata": {},
   "outputs": [
    {
     "name": "stdout",
     "output_type": "stream",
     "text": [
      "Input lengths of shorter triangle sides:\n",
      "a: 3\n",
      "b: 4\n",
      "The length of the hypotenuse is: 5.0\n"
     ]
    }
   ],
   "source": [
    "# Area of Right angle Triangle.\n",
    "from math import sqrt\n",
    "print(\"Input lengths of shorter triangle sides:\")\n",
    "a = float(input(\"a: \"))\n",
    "b = float(input(\"b: \"))\n",
    "c = sqrt(a**2 + b**2)\n",
    "print(\"The length of the hypotenuse is:\", c )"
   ]
  },
  {
   "cell_type": "code",
   "execution_count": 9,
   "id": "cd2a5ccd",
   "metadata": {},
   "outputs": [
    {
     "name": "stdout",
     "output_type": "stream",
     "text": [
      "Area of Trapezium = 200.0\n",
      "Perimeter of Trapezium = 35\n"
     ]
    }
   ],
   "source": [
    "# Python3 code to find area\n",
    "# and perimeter of trapezium\n",
    "\n",
    "# Function to calculate\n",
    "# Area of trapezium\n",
    "def areaTrapezium (a, b, h):\n",
    "\treturn (1.0 / 2 * (a + b) * h)\n",
    "\n",
    "# Function to calculate\n",
    "# perimeter of trapezium\n",
    "def perimeterTrapezium (a, b, c, d):\n",
    "\treturn (a + b + c + d)\n",
    "\n",
    "# Driver function\n",
    "a = 5\n",
    "b = 15\n",
    "c = 11\n",
    "d = 4\n",
    "h = 20\n",
    "print(\"Area of Trapezium =\",\n",
    "\tareaTrapezium(a, b, h))\n",
    "\n",
    "print(\"Perimeter of Trapezium =\",\n",
    "\tperimeterTrapezium(a, b, c, d))\n",
    "\n"
   ]
  },
  {
   "cell_type": "code",
   "execution_count": 9,
   "id": "cfeb11e3",
   "metadata": {},
   "outputs": [
    {
     "name": "stdout",
     "output_type": "stream",
     "text": [
      "Please Enter the First Base of a Trapezoid: 212\n",
      "Please Enter the Second Base of a Trapezoid: 212\n",
      "Please Enter the Height of a Trapezoid: 121\n",
      "\n",
      " Area of a Trapezium = 25652.00 \n",
      " Median of a Trapezium = 212.00 \n"
     ]
    }
   ],
   "source": [
    "# Python Program to find Area of a Trapezoid\n",
    " \n",
    "base1 = float(input('Please Enter the First Base of a Trapezoid: '))\n",
    "base2 = float(input('Please Enter the Second Base of a Trapezoid: '))\n",
    "height = float(input('Please Enter the Height of a Trapezoid: '))\n",
    " \n",
    "# calculate the area\n",
    "Area = 0.5 * (base1 + base2) * height\n",
    " \n",
    "# calculate the Median\n",
    "Median = 0.5 * (base1+ base2)\n",
    " \n",
    "print(\"\\n Area of a Trapezium = %.2f \" %Area)\n",
    "print(\" Median of a Trapezium = %.2f \" %Median)"
   ]
  },
  {
   "cell_type": "markdown",
   "id": "149c2f3c",
   "metadata": {},
   "source": [
    "## area of rhombus\n",
    "#Python program to calculate Area of Rhombus\n",
    "d1=int(input(\"Enter length of diagonal 1:\"));\n",
    "d2=int(input(\"Enter length of diagonal 2:\"));\n",
    "s=int(input(\"Enter side:\"));\n",
    "p=4*s;\n",
    "a=(1/2)*d1*d2;\n",
    "print(\"Perimeter of Rhombus:\",p,\"units\");\n",
    "print(\"Area of Rhombus:\",a,\"sq units\");"
   ]
  },
  {
   "cell_type": "code",
   "execution_count": 14,
   "id": "80435296",
   "metadata": {},
   "outputs": [
    {
     "name": "stdout",
     "output_type": "stream",
     "text": [
      "Area of the parallelogram = 1200\n"
     ]
    }
   ],
   "source": [
    "# Area of parallelogram = base * height\n",
    "base = 30\n",
    "height = 40\n",
    "\n",
    "# formula for finding the area\n",
    "area_parallelogram = base * height\n",
    "\n",
    "# displaying the output\n",
    "print(\"Area of the parallelogram = \"+str(area_parallelogram))\n"
   ]
  },
  {
   "cell_type": "code",
   "execution_count": 15,
   "id": "b601506d",
   "metadata": {},
   "outputs": [
    {
     "name": "stdout",
     "output_type": "stream",
     "text": [
      "Length of base: 30\n",
      "Measurement of height: 40\n",
      "Area is:  1200.0\n"
     ]
    }
   ],
   "source": [
    "base = float(input('Length of base: '));\n",
    "height = float(input('Measurement of height: '));\n",
    "area = base * height;\n",
    "print(\"Area is: \", area);"
   ]
  },
  {
   "cell_type": "code",
   "execution_count": 16,
   "id": "8bb9fc04",
   "metadata": {},
   "outputs": [
    {
     "name": "stdout",
     "output_type": "stream",
     "text": [
      "Area = 125\n",
      "Total surface area = 150\n"
     ]
    }
   ],
   "source": [
    "# volume and surface area of cube.\n",
    "# Volume: a*a*a \n",
    "# Total Surface area: 6*a*a\n",
    "# Python3 code to find area\n",
    "# and total surface area of cube\n",
    "\n",
    "# utility function\n",
    "def areaCube( a ):\n",
    "\treturn (a * a * a)\n",
    "\n",
    "def surfaceCube( a ):\n",
    "\treturn (6 * a * a)\n",
    "\n",
    "# driver function\n",
    "a = 5\n",
    "print(\"Area =\", areaCube(a))\n",
    "print(\"Total surface area =\", surfaceCube(a))\n",
    "\n"
   ]
  },
  {
   "cell_type": "code",
   "execution_count": 19,
   "id": "8c8e6906",
   "metadata": {},
   "outputs": [
    {
     "name": "stdout",
     "output_type": "stream",
     "text": [
      "Enter the Length of a Cuboid: 5\n",
      "Enter the Width of a Cuboid: 6\n",
      "Enter the Height of a Cuboid: 7\n",
      "\n",
      "The Surface Area of a Cuboid = 214.00 \n",
      "The Volume of a Cuboid = 210.00\n",
      "The Lateral Surface Area of a Cuboid = 154.00 \n"
     ]
    }
   ],
   "source": [
    "# Python Program to Calculate the Volume and Surface Area of Cuboid\n",
    "\n",
    "#Surface Area of the Cuboid = 3 * (length * width + length * height + width * height)\n",
    "#Volume of the Cuboid = length * width * height\n",
    "\n",
    "#Lateral Surface Area of a Cuboid = 2 * height * (length + width)\n",
    "# Take the input from the User\n",
    "length = float(input(\"Enter the Length of a Cuboid: \"))\n",
    "width = float(input(\"Enter the Width of a Cuboid: \"))\n",
    "height = float(input(\"Enter the Height of a Cuboid: \"))\n",
    "\n",
    "# Calculate the Surface Area\n",
    "SA = 2 * (length * width + length * height + width * height)\n",
    "\n",
    "# Calculate the Volume\n",
    "Volume = length * width * height\n",
    "\n",
    "# Calculate the Lateral Surface Area\n",
    "LSA = 2 * height * (length + width)\n",
    "\n",
    "# Print the Output\n",
    "print(\"\\nThe Surface Area of a Cuboid = %.2f \" %SA)\n",
    "print(\"The Volume of a Cuboid = %.2f\" %Volume);\n",
    "print(\"The Lateral Surface Area of a Cuboid = %.2f \" %LSA)"
   ]
  },
  {
   "cell_type": "code",
   "execution_count": 20,
   "id": "c0cfaa16",
   "metadata": {},
   "outputs": [
    {
     "name": "stdout",
     "output_type": "stream",
     "text": [
      "Height of cylinder: 4\n",
      "Radius of cylinder: 6\n",
      "Volume is:  452.57142857142856\n",
      "Surface Area is:  377.1428571428571\n"
     ]
    }
   ],
   "source": [
    "# volume and surface area of cylinder in python\n",
    "\n",
    "pi=22/7;\n",
    "height = float(input('Height of cylinder: '));\n",
    "radian = float(input('Radius of cylinder: '));\n",
    "volume = pi * radian * radian * height;\n",
    "sur_area = ((2*pi*radian) * height) + ((pi*radian**2)*2);\n",
    "print(\"Volume is: \", volume);\n",
    "print(\"Surface Area is: \", sur_area);"
   ]
  },
  {
   "cell_type": "code",
   "execution_count": 21,
   "id": "96277417",
   "metadata": {},
   "outputs": [
    {
     "name": "stdout",
     "output_type": "stream",
     "text": [
      "Enter the Radius of a Cone: 6\n",
      "Enter the Height of a Cone: 10\n",
      "\n",
      "Length of a Side (Slant)of a Cone = 11.66\n",
      "The Surface Area of a Cone = 332.92 \n",
      "The Volume of a Cone = 376.99\n",
      "The Lateral Surface Area of a Cone = 219.82 \n"
     ]
    }
   ],
   "source": [
    "# Slant Height of the Cone = √(r² + h²)\n",
    "\n",
    "# Surface area of the Cone = πr(r+ √(r² + h²))\n",
    "\n",
    "# Volume of the Cone = (πr2h)/3\n",
    "\n",
    "# Lateral Surface Area of a Cone = πr√(r² + h²)\n",
    "# Python Program to Calculate the Volume and Surface Area of a Cone\n",
    "\n",
    "# Import Module\n",
    "import math\n",
    "\n",
    "# Take the Input From the User\n",
    "radius = float(input(\"Enter the Radius of a Cone: \"))\n",
    "height = float(input(\"Enter the Height of a Cone: \"))\n",
    "\n",
    "# Calculate Length of a Slide (Slant)\n",
    "l = math.sqrt(radius * radius + height * height)\n",
    "\n",
    "# Calculate the Surface Area\n",
    "SA = math.pi * radius * (radius + l)\n",
    "\n",
    "# Calculate the Volume\n",
    "Volume = (1.0/3) * math.pi * radius * radius * height\n",
    "\n",
    "# Calculate the Lateral Surface Area\n",
    "LSA = math.pi * radius  * l\n",
    "\n",
    "# Print the Output\n",
    "print(\"\\nLength of a Side (Slant)of a Cone = %.2f\" %l)\n",
    "print(\"The Surface Area of a Cone = %.2f \" %SA)\n",
    "print(\"The Volume of a Cone = %.2f\" %Volume);\n",
    "print(\"The Lateral Surface Area of a Cone = %.2f \" %LSA)"
   ]
  },
  {
   "cell_type": "code",
   "execution_count": 22,
   "id": "1a2d9b59",
   "metadata": {},
   "outputs": [
    {
     "name": "stdout",
     "output_type": "stream",
     "text": [
      "Radius of sphere: 0.75\n",
      "Surface Area is:  7.071428571428571\n",
      "Volume is:  1.7678571428571428\n"
     ]
    }
   ],
   "source": [
    "# area of a sphere is A = 4*π*r2\n",
    "# the volume inside a sphere is derived to be V = 4/3*π*r3 where r is the radius of the sphere\n",
    "pi=22/7;\n",
    "radian = float(input('Radius of sphere: '));\n",
    "sur_area = 4 * pi * radian **2;\n",
    "volume = (4/3) * (pi * radian ** 3);\n",
    "print(\"Surface Area is: \", sur_area);\n",
    "print(\"Volume is: \", volume);"
   ]
  },
  {
   "cell_type": "code",
   "execution_count": 24,
   "id": "5e62ba43",
   "metadata": {},
   "outputs": [
    {
     "name": "stdout",
     "output_type": "stream",
     "text": [
      "enter the side of square:5\n",
      "Area of square is: 25.0\n",
      "\n",
      "Perimeter of square is: 20.0\n",
      "enter the radius of circle:4\n",
      "Area of circle is: 50.24\n",
      "Perimter of circle is: 25.12\n",
      "enter the length of rectangle:6\n",
      "enter the breadth of rectangle:6\n",
      "Area of rectangle is: 36.0\n",
      "Perimter of rectangle is: 24.0\n",
      "enter the base of right angled triangle:6\n",
      "enter the height of right angled triangle:5\n",
      "Area of triangle is: 15.0\n",
      "Perimter of right angled triangle is: 18.810249675906654\n"
     ]
    }
   ],
   "source": [
    "# To calculate perimeter/circumference and area of shapes such as  triangle, rectangle, square and circle.\n",
    "\n",
    "#We will make use of user defined python functions for this task.\n",
    "#we will import math library to use sqrt(), this will used to #calculate square root.\n",
    "\n",
    "import math\n",
    "\n",
    "def area_square(a):\n",
    "    area1=float(a*a);\n",
    "    print(\"Area of square is:\",area1)\n",
    "    \n",
    "def area_circle(r):\n",
    "    area2=float(3.14*r*r);\n",
    "    print(\"Area of circle is:\",area2)\n",
    "def area_rectangle(a,b):\n",
    "    area3=float(a*b);\n",
    "    print(\"Area of rectangle is:\",area3)\n",
    "def area_triangle(x,y):\n",
    "    area4=float((x*y)/2);\n",
    "    print(\"Area of triangle is:\",area4)\n",
    "def peri_square(a):\n",
    "    peri1=float(4*a);\n",
    "    print(\"Perimeter of square is:\",peri1)\n",
    "def peri_circle(r):\n",
    "    peri2=float(2*3.14*r);\n",
    "    print(\"Perimter of circle is:\",peri2)\n",
    "def peri_triangle(a,b):\n",
    "    hypotenuse=float(math.sqrt(a*a+b*b))\n",
    "    peri3=float(a+b+hypotenuse)\n",
    "    print(\"Perimter of right angled triangle is:\",peri3)\n",
    "def peri_rectangle(a,b):\n",
    "    peri4=float(2*(a+b))\n",
    "    print(\"Perimter of rectangle is:\",peri4)\n",
    "\n",
    "side=float(input(\"enter the side of square:\"))\n",
    "area_square(side)\n",
    "print()\n",
    "peri_square(side)\n",
    "radius=float(input(\"enter the radius of circle:\"))\n",
    "area_circle(radius)\n",
    "peri_circle(radius)\n",
    "length=float(input(\"enter the length of rectangle:\"))\n",
    "breadth=float(input(\"enter the breadth of rectangle:\"))\n",
    "area_rectangle(length,breadth)\n",
    "peri_rectangle(length,breadth)\n",
    "base=float(input(\"enter the base of right angled triangle:\"))\n",
    "height=float(input(\"enter the height of right angled triangle:\"))\n",
    "area_triangle(base,height)\n",
    "peri_triangle(base,height)"
   ]
  },
  {
   "cell_type": "code",
   "execution_count": 25,
   "id": "5aebda00",
   "metadata": {},
   "outputs": [
    {
     "name": "stdout",
     "output_type": "stream",
     "text": [
      "The principal is 8\n",
      "The time period is 6\n",
      "The rate of interest is 8\n",
      "The Simple Interest is 3.84\n"
     ]
    },
    {
     "data": {
      "text/plain": [
       "3.84"
      ]
     },
     "execution_count": 25,
     "metadata": {},
     "output_type": "execute_result"
    }
   ],
   "source": [
    "# Python3 program to find simple interest\n",
    "# for given principal amount, time and\n",
    "# rate of interest.\n",
    "\n",
    "\n",
    "def simple_interest(p,t,r):\n",
    "\tprint('The principal is', p)\n",
    "\tprint('The time period is', t)\n",
    "\tprint('The rate of interest is',r)\n",
    "\t\n",
    "\tsi = (p * t * r)/100\n",
    "\t\n",
    "\tprint('The Simple Interest is', si)\n",
    "\treturn si\n",
    "\t\n",
    "# Driver code\n",
    "simple_interest(8, 6, 8)\n"
   ]
  },
  {
   "cell_type": "code",
   "execution_count": 26,
   "id": "267e8df4",
   "metadata": {},
   "outputs": [
    {
     "name": "stdout",
     "output_type": "stream",
     "text": [
      "Temperature in Celsius is: \n",
      "12.222222222222221\n"
     ]
    }
   ],
   "source": [
    "# T(oC)   =  ((T(oF)  -  32  ) ×  5)/9 \n",
    "Fahrenheit= 54;  \n",
    "Celsius = ((Fahrenheit-32)*5)/9;  \n",
    "print(\"Temperature in Celsius is: \");  \n",
    "print(Celsius);  "
   ]
  },
  {
   "cell_type": "code",
   "execution_count": 27,
   "id": "05a793d8",
   "metadata": {},
   "outputs": [
    {
     "name": "stdout",
     "output_type": "stream",
     "text": [
      "Enter temperature in celsius: 37\n",
      "37.00 Celsius is: 98.60 Fahrenheit\n"
     ]
    }
   ],
   "source": [
    "# Program to Convert Celsius To Fahrenheit \n",
    "celsius = float(input(\"Enter temperature in celsius: \"))\n",
    "fahrenheit = (celsius * 9/5) + 32\n",
    "print('%.2f Celsius is: %0.2f Fahrenheit' %(celsius, fahrenheit))"
   ]
  },
  {
   "cell_type": "code",
   "execution_count": 28,
   "id": "7bbd60eb",
   "metadata": {},
   "outputs": [
    {
     "name": "stdout",
     "output_type": "stream",
     "text": [
      "Enter the first mass: 1000000\n",
      "Enter the second mass: 500000\n",
      "Enter the distance between the centres of the masses: 20\n",
      "Hence, the gravitational force is:  0.08 N\n"
     ]
    }
   ],
   "source": [
    "# Find the Gravitational Force Acting Between Two Objects\n",
    "m1=float(input(\"Enter the first mass: \"));\n",
    "m2=float(input(\"Enter the second mass: \"));\n",
    "r=float(input(\"Enter the distance between the centres of the masses: \"));\n",
    "G=6.673*(10**-11);\n",
    "f=(G*m1*m2)/(r**2);\n",
    "print(\"Hence, the gravitational force is: \",round(f,2),\"N\");"
   ]
  },
  {
   "cell_type": "raw",
   "id": "06b2b839",
   "metadata": {},
   "source": [
    "Program Explanation\n",
    "1. User must enter the values for both the masses and the distance between the masses and store it in separate variables.\n",
    "2. One of the variables is initialised to the value of gravitational constant (G) which is equal to 6.673*(10**-11).\n",
    "3. Then the formula: f=(G*m1*m2)/(r**2), where m1 and m2 are the masses and r is the distance between them, is used to determine the magnitude of force acting between the masses.\n",
    "4. The force calculated is rounded up-to 2 decimal places and printed."
   ]
  },
  {
   "cell_type": "code",
   "execution_count": 29,
   "id": "a70582be",
   "metadata": {},
   "outputs": [
    {
     "name": "stdout",
     "output_type": "stream",
     "text": [
      "The value of x after swapping: 10\n",
      "The value of y after swapping: 5\n"
     ]
    }
   ],
   "source": [
    "# swap the values of two variables\n",
    "# Python program to swap two variables\n",
    "\n",
    "x = 5\n",
    "y = 10\n",
    "\n",
    "# To take inputs from the user\n",
    "#x = input('Enter value of x: ')\n",
    "#y = input('Enter value of y: ')\n",
    "\n",
    "# create a temporary variable and swap the values\n",
    "temp = x\n",
    "x = y\n",
    "y = temp\n",
    "\n",
    "print('The value of x after swapping: {}'.format(x))\n",
    "print('The value of y after swapping: {}'.format(y))"
   ]
  },
  {
   "cell_type": "code",
   "execution_count": 30,
   "id": "6a600014",
   "metadata": {},
   "outputs": [
    {
     "name": "stdout",
     "output_type": "stream",
     "text": [
      "Value of x: 50\n",
      "Value of y: 10\n"
     ]
    }
   ],
   "source": [
    "# Python program to demonstrate\n",
    "# swapping of two variables\n",
    "\n",
    "x = 10\n",
    "y = 50\n",
    "\n",
    "# Swapping of two variables\n",
    "# Using third variable\n",
    "temp = x\n",
    "x = y\n",
    "y = temp\n",
    "\n",
    "print(\"Value of x:\", x)\n",
    "print(\"Value of y:\", y)\n"
   ]
  },
  {
   "cell_type": "code",
   "execution_count": 31,
   "id": "06e5f3e8",
   "metadata": {},
   "outputs": [
    {
     "name": "stdout",
     "output_type": "stream",
     "text": [
      "Before swapping: \n",
      "Value of x :  5  and y :  7\n",
      "After swapping: \n",
      "Value of x :  7  and y :  5\n"
     ]
    }
   ],
   "source": [
    "# \n",
    "# Python code to swap two numbers\n",
    "# without using another variable\n",
    "\n",
    "\n",
    "x = 5\n",
    "y = 7\n",
    "\n",
    "print (\"Before swapping: \")\n",
    "print(\"Value of x : \", x, \" and y : \", y)\n",
    "\n",
    "# code to swap 'x' and 'y'\n",
    "x, y = y, x\n",
    "\n",
    "print (\"After swapping: \")\n",
    "print(\"Value of x : \", x, \" and y : \", y)\n"
   ]
  },
  {
   "cell_type": "code",
   "execution_count": 32,
   "id": "051cf674",
   "metadata": {},
   "outputs": [
    {
     "name": "stdout",
     "output_type": "stream",
     "text": [
      "Before swapping: \n",
      "Value of x :  5.4  and y :  10.3\n",
      "After swapping: \n",
      "Value of x :  10.3  and y :  5.4\n"
     ]
    }
   ],
   "source": [
    "# Python code to swap two numbers\n",
    "# using + and - operators\n",
    "\n",
    "\n",
    "x = 5.4\n",
    "y = 10.3\n",
    "\n",
    "print (\"Before swapping: \")\n",
    "print(\"Value of x : \", x, \" and y : \", y)\n",
    "\n",
    "# Swap code\n",
    "x = x + y # x = 15.7, y = 10.3\n",
    "y = x - y # x = 15.7, y = 5.4\n",
    "x = x - y # x = 10.3, y = 5.4\n",
    "\n",
    "print (\"After swapping: \")\n",
    "print(\"Value of x : \", x, \" and y : \", y)\n"
   ]
  },
  {
   "cell_type": "code",
   "execution_count": 33,
   "id": "af960aa3",
   "metadata": {},
   "outputs": [
    {
     "name": "stdout",
     "output_type": "stream",
     "text": [
      "8\n"
     ]
    }
   ],
   "source": [
    "# Assign: This operator is used to assign the value of the right side of the expression to the left side operand.\n",
    "# Assigning values using\n",
    "# Assignment Operator\n",
    "\n",
    "a = 3\n",
    "b = 5\n",
    "\n",
    "c = a + b\n",
    "\n",
    "# Output\n",
    "print(c)\n"
   ]
  },
  {
   "cell_type": "code",
   "execution_count": 34,
   "id": "68a388da",
   "metadata": {},
   "outputs": [
    {
     "name": "stdout",
     "output_type": "stream",
     "text": [
      "8\n"
     ]
    }
   ],
   "source": [
    "# Add and Assign: This operator is used to add the right side operand with the left side operand and then assigning the result to the left operand.\n",
    "\n",
    "# x += y\n",
    "a = 3\n",
    "b = 5\n",
    "\n",
    "# a = a + b\n",
    "a += b\n",
    "\n",
    "# Output\n",
    "print(a)\n"
   ]
  },
  {
   "cell_type": "code",
   "execution_count": 35,
   "id": "3c3dadea",
   "metadata": {},
   "outputs": [
    {
     "name": "stdout",
     "output_type": "stream",
     "text": [
      "-2\n"
     ]
    }
   ],
   "source": [
    "# Subtract and Assign: This operator is used to subtract the right operand from the left operand and then assigning the result to the left operand.\n",
    "\n",
    "# x -= y\n",
    "a = 3\n",
    "b = 5\n",
    "\n",
    "# a = a - b\n",
    "a -= b\n",
    "\n",
    "# Output\n",
    "print(a)\n"
   ]
  },
  {
   "cell_type": "code",
   "execution_count": 36,
   "id": "40ebf97d",
   "metadata": {},
   "outputs": [
    {
     "name": "stdout",
     "output_type": "stream",
     "text": [
      "15\n"
     ]
    }
   ],
   "source": [
    "# Multiply and Assign: This operator is used to multiply the right operand with the left operand and then assigning the result to the left operand.\n",
    "# x *= y\n",
    "a = 3\n",
    "b = 5\n",
    "\n",
    "# a = a * b\n",
    "a *= b\n",
    "\n",
    "# Output\n",
    "print(a)\n",
    "\n"
   ]
  },
  {
   "cell_type": "code",
   "execution_count": 37,
   "id": "45512091",
   "metadata": {},
   "outputs": [
    {
     "name": "stdout",
     "output_type": "stream",
     "text": [
      "0.6\n"
     ]
    }
   ],
   "source": [
    "# Divide and Assign: This operator is used to divide the left operand with the right operand and then assigning the result to the left operand.\n",
    "# x /= y\n",
    "a = 3\n",
    "b = 5\n",
    "\n",
    "# a = a / b\n",
    "a /= b\n",
    "\n",
    "# Output\n",
    "print(a)\n"
   ]
  },
  {
   "cell_type": "code",
   "execution_count": 38,
   "id": "c19b2bde",
   "metadata": {},
   "outputs": [
    {
     "name": "stdout",
     "output_type": "stream",
     "text": [
      "Result of Division is  1\n"
     ]
    }
   ],
   "source": [
    "# Python3 program to do modular division\n",
    "import math\n",
    "\n",
    "# Function to find modulo inverse of b. It returns\n",
    "# -1 when inverse doesn't\n",
    "# modInverse works for prime m\n",
    "def modInverse(b,m):\n",
    "\tg = math.gcd(b, m)\n",
    "\tif (g != 1):\n",
    "\t\t# print(\"Inverse doesn't exist\")\n",
    "\t\treturn -1\n",
    "\telse:\n",
    "\t\t# If b and m are relatively prime,\n",
    "\t\t# then modulo inverse is b^(m-2) mode m\n",
    "\t\treturn pow(b, m - 2, m)\n",
    "\n",
    "\n",
    "# Function to compute a/b under modulo m\n",
    "def modDivide(a,b,m):\n",
    "\ta = a % m\n",
    "\tinv = modInverse(b,m)\n",
    "\tif(inv == -1):\n",
    "\t\tprint(\"Division not defined\")\n",
    "\telse:\n",
    "\t\tprint(\"Result of Division is \",(inv*a) % m)\n",
    "\n",
    "# Driver Program\n",
    "a = 8\n",
    "b = 3\n",
    "m = 5\n",
    "modDivide(a, b, m)\n",
    "\n",
    "# This code is Contributed by HarendraSingh22\n"
   ]
  },
  {
   "cell_type": "code",
   "execution_count": 39,
   "id": "6145a1cd",
   "metadata": {},
   "outputs": [
    {
     "name": "stdout",
     "output_type": "stream",
     "text": [
      "13 mod 5 = 3\n",
      "15.0 mod 7.0 = 1.0\n"
     ]
    }
   ],
   "source": [
    "# inputs\n",
    "a = 13\n",
    "b = 5\n",
    "\n",
    "# Stores the remainder obtained\n",
    "# when dividing a by b, in c\n",
    "c = a % b\n",
    "print(a, \"mod\", b, \"=\",\n",
    "\tc, sep = \" \")\n",
    "\n",
    "# inputs\n",
    "d = 15.0\n",
    "e = 7.0\n",
    "\n",
    "# Stores the remainder obtained\n",
    "# when dividing d by e, in f\n",
    "f = d % e\n",
    "print(d, \"mod\", e, \"=\",\n",
    "\tf, sep = \" \")\n"
   ]
  },
  {
   "cell_type": "code",
   "execution_count": 40,
   "id": "444d2ae5",
   "metadata": {},
   "outputs": [
    {
     "name": "stdout",
     "output_type": "stream",
     "text": [
      "Cannot divide by zero!Change the value of the right operand.\n"
     ]
    }
   ],
   "source": [
    "# inputs\n",
    "a = 14\n",
    "b = 0\n",
    "\n",
    "# exception handling\n",
    "try:\n",
    "\tprint(a, 'mod', b, '=',\n",
    "\t\ta % b, sep = \" \")\n",
    "\t\n",
    "except ZeroDivisionError as err:\n",
    "\tprint('Cannot divide by zero!' +\n",
    "\t\t'Change the value of the right operand.')\n"
   ]
  },
  {
   "cell_type": "code",
   "execution_count": 41,
   "id": "f1b2b66f",
   "metadata": {},
   "outputs": [
    {
     "data": {
      "text/plain": [
       "2"
      ]
     },
     "execution_count": 41,
     "metadata": {},
     "output_type": "execute_result"
    }
   ],
   "source": [
    "8%3"
   ]
  },
  {
   "cell_type": "code",
   "execution_count": 42,
   "id": "c5540712",
   "metadata": {},
   "outputs": [
    {
     "data": {
      "text/plain": [
       "1"
      ]
     },
     "execution_count": 42,
     "metadata": {},
     "output_type": "execute_result"
    }
   ],
   "source": [
    "-8%3"
   ]
  },
  {
   "cell_type": "code",
   "execution_count": 43,
   "id": "9f7ff2d1",
   "metadata": {},
   "outputs": [
    {
     "data": {
      "text/plain": [
       "-1"
      ]
     },
     "execution_count": 43,
     "metadata": {},
     "output_type": "execute_result"
    }
   ],
   "source": [
    "8%-3"
   ]
  },
  {
   "cell_type": "code",
   "execution_count": 44,
   "id": "d5592e4d",
   "metadata": {},
   "outputs": [
    {
     "data": {
      "text/plain": [
       "-2"
      ]
     },
     "execution_count": 44,
     "metadata": {},
     "output_type": "execute_result"
    }
   ],
   "source": [
    "-8%-3"
   ]
  },
  {
   "cell_type": "code",
   "execution_count": 45,
   "id": "8539e7c3",
   "metadata": {},
   "outputs": [
    {
     "name": "stdout",
     "output_type": "stream",
     "text": [
      "13\n",
      "5\n",
      "36\n",
      "2.25\n",
      "2\n",
      "1\n",
      "6561\n"
     ]
    }
   ],
   "source": [
    "# Examples of Arithmetic Operator\n",
    "a = 9\n",
    "b = 4\n",
    "\n",
    "# Addition of numbers\n",
    "add = a + b\n",
    "\n",
    "# Subtraction of numbers\n",
    "sub = a - b\n",
    "\n",
    "# Multiplication of number\n",
    "mul = a * b\n",
    "\n",
    "# Division(float) of number\n",
    "div1 = a / b\n",
    "\n",
    "# Division(floor) of number\n",
    "div2 = a // b\n",
    "\n",
    "# Modulo of both number\n",
    "mod = a % b\n",
    "\n",
    "# Power\n",
    "p = a ** b\n",
    "\n",
    "# print results\n",
    "print(add)\n",
    "print(sub)\n",
    "print(mul)\n",
    "print(div1)\n",
    "print(div2)\n",
    "print(mod)\n",
    "print(p)\n"
   ]
  },
  {
   "cell_type": "code",
   "execution_count": 46,
   "id": "c1713e76",
   "metadata": {},
   "outputs": [
    {
     "name": "stdout",
     "output_type": "stream",
     "text": [
      "False\n",
      "True\n",
      "False\n",
      "True\n",
      "False\n",
      "True\n"
     ]
    }
   ],
   "source": [
    "# Examples of Relational Operators\n",
    "a = 13\n",
    "b = 33\n",
    "\n",
    "# a > b is False\n",
    "print(a > b)\n",
    "\n",
    "# a < b is True\n",
    "print(a < b)\n",
    "\n",
    "# a == b is False\n",
    "print(a == b)\n",
    "\n",
    "# a != b is True\n",
    "print(a != b)\n",
    "\n",
    "# a >= b is False\n",
    "print(a >= b)\n",
    "\n",
    "# a <= b is True\n",
    "print(a <= b)\n"
   ]
  },
  {
   "cell_type": "code",
   "execution_count": 47,
   "id": "2821a5ea",
   "metadata": {},
   "outputs": [
    {
     "name": "stdout",
     "output_type": "stream",
     "text": [
      "False\n",
      "True\n",
      "False\n"
     ]
    }
   ],
   "source": [
    "# Examples of Logical Operator\n",
    "a = True\n",
    "b = False\n",
    "\n",
    "# Print a and b is False\n",
    "print(a and b)\n",
    "\n",
    "# Print a or b is True\n",
    "print(a or b)\n",
    "\n",
    "# Print not a is False\n",
    "print(not a)\n"
   ]
  },
  {
   "cell_type": "code",
   "execution_count": 48,
   "id": "c9d12de5",
   "metadata": {},
   "outputs": [
    {
     "name": "stdout",
     "output_type": "stream",
     "text": [
      "0\n",
      "14\n",
      "-11\n",
      "14\n",
      "2\n",
      "40\n"
     ]
    }
   ],
   "source": [
    "# Examples of Bitwise operators\n",
    "a = 10\n",
    "b = 4\n",
    "\n",
    "# Print bitwise AND operation\n",
    "print(a & b)\n",
    "\n",
    "# Print bitwise OR operation\n",
    "print(a | b)\n",
    "\n",
    "# Print bitwise NOT operation\n",
    "print(~a)\n",
    "\n",
    "# print bitwise XOR operation\n",
    "print(a ^ b)\n",
    "\n",
    "# print bitwise right shift operation\n",
    "print(a >> 2)\n",
    "\n",
    "# print bitwise left shift operation\n",
    "print(a << 2)\n"
   ]
  },
  {
   "cell_type": "code",
   "execution_count": 49,
   "id": "97a210a7",
   "metadata": {},
   "outputs": [
    {
     "name": "stdout",
     "output_type": "stream",
     "text": [
      "10\n",
      "20\n",
      "10\n",
      "100\n",
      "102400\n"
     ]
    }
   ],
   "source": [
    "# Examples of Assignment Operators\n",
    "a = 10\n",
    "\n",
    "# Assign value\n",
    "b = a\n",
    "print(b)\n",
    "\n",
    "# Add and assign value\n",
    "b += a\n",
    "print(b)\n",
    "\n",
    "# Subtract and assign value\n",
    "b -= a\n",
    "print(b)\n",
    "\n",
    "# multiply and assign\n",
    "b *= a\n",
    "print(b)\n",
    "\n",
    "# bitwise lishift operator\n",
    "b <<= a\n",
    "print(b)\n"
   ]
  },
  {
   "cell_type": "code",
   "execution_count": 50,
   "id": "5d5cc36a",
   "metadata": {},
   "outputs": [
    {
     "name": "stdout",
     "output_type": "stream",
     "text": [
      "True\n",
      "True\n"
     ]
    }
   ],
   "source": [
    "a = 10\n",
    "b = 20\n",
    "c = a\n",
    "\n",
    "print(a is not b)\n",
    "print(a is c)\n"
   ]
  },
  {
   "cell_type": "code",
   "execution_count": 51,
   "id": "937cfaf1",
   "metadata": {},
   "outputs": [
    {
     "name": "stdout",
     "output_type": "stream",
     "text": [
      "x is NOT present in given list\n",
      "y is present in given list\n"
     ]
    }
   ],
   "source": [
    "# Python program to illustrate\n",
    "# not 'in' operator\n",
    "x = 24\n",
    "y = 20\n",
    "list = [10, 20, 30, 40, 50]\n",
    "\n",
    "if (x not in list):\n",
    "\tprint(\"x is NOT present in given list\")\n",
    "else:\n",
    "\tprint(\"x is present in given list\")\n",
    "\n",
    "if (y in list):\n",
    "\tprint(\"y is present in given list\")\n",
    "else:\n",
    "\tprint(\"y is NOT present in given list\")\n"
   ]
  },
  {
   "cell_type": "code",
   "execution_count": 52,
   "id": "f8544052",
   "metadata": {},
   "outputs": [
    {
     "name": "stdout",
     "output_type": "stream",
     "text": [
      "610\n",
      "Hello! Welcome.\n"
     ]
    }
   ],
   "source": [
    "# Examples of Operator Precedence\n",
    "\n",
    "# Precedence of '+' & '*'\n",
    "expr = 10 + 20 * 30\n",
    "print(expr)\n",
    "\n",
    "# Precedence of 'or' & 'and'\n",
    "name = \"Alex\"\n",
    "age = 0\n",
    "\n",
    "if name == \"Alex\" or name == \"John\" and age >= 2:\n",
    "\tprint(\"Hello! Welcome.\")\n",
    "else:\n",
    "\tprint(\"Good Bye!!\")\n"
   ]
  },
  {
   "cell_type": "code",
   "execution_count": 53,
   "id": "ae41f28d",
   "metadata": {},
   "outputs": [
    {
     "name": "stdout",
     "output_type": "stream",
     "text": [
      "100.0\n",
      "6\n",
      "0\n",
      "512\n"
     ]
    }
   ],
   "source": [
    "# Examples of Operator Associativity\n",
    "\n",
    "# Left-right associativity\n",
    "# 100 / 10 * 10 is calculated as\n",
    "# (100 / 10) * 10 and not\n",
    "# as 100 / (10 * 10)\n",
    "print(100 / 10 * 10)\n",
    "\n",
    "# Left-right associativity\n",
    "# 5 - 2 + 3 is calculated as\n",
    "# (5 - 2) + 3 and not\n",
    "# as 5 - (2 + 3)\n",
    "print(5 - 2 + 3)\n",
    "\n",
    "# left-right associativity\n",
    "print(5 - (2 + 3))\n",
    "\n",
    "# right-left associativity\n",
    "# 2 ** 3 ** 2 is calculated as\n",
    "# 2 ** (3 ** 2) and not\n",
    "# as (2 ** 3) ** 2\n",
    "print(2 ** 3 ** 2)\n"
   ]
  },
  {
   "cell_type": "code",
   "execution_count": 54,
   "id": "d754c043",
   "metadata": {},
   "outputs": [
    {
     "data": {
      "text/plain": [
       "True"
      ]
     },
     "execution_count": 54,
     "metadata": {},
     "output_type": "execute_result"
    }
   ],
   "source": [
    "8>3"
   ]
  },
  {
   "cell_type": "code",
   "execution_count": 55,
   "id": "782b5dbd",
   "metadata": {},
   "outputs": [
    {
     "data": {
      "text/plain": [
       "False"
      ]
     },
     "execution_count": 55,
     "metadata": {},
     "output_type": "execute_result"
    }
   ],
   "source": [
    "8<3"
   ]
  },
  {
   "cell_type": "code",
   "execution_count": 56,
   "id": "edcc7dcf",
   "metadata": {},
   "outputs": [
    {
     "data": {
      "text/plain": [
       "True"
      ]
     },
     "execution_count": 56,
     "metadata": {},
     "output_type": "execute_result"
    }
   ],
   "source": [
    "8>=3"
   ]
  },
  {
   "cell_type": "code",
   "execution_count": 57,
   "id": "fe4acf96",
   "metadata": {},
   "outputs": [
    {
     "data": {
      "text/plain": [
       "False"
      ]
     },
     "execution_count": 57,
     "metadata": {},
     "output_type": "execute_result"
    }
   ],
   "source": [
    "8<=3"
   ]
  },
  {
   "cell_type": "code",
   "execution_count": 58,
   "id": "ef1754b2",
   "metadata": {},
   "outputs": [
    {
     "data": {
      "text/plain": [
       "False"
      ]
     },
     "execution_count": 58,
     "metadata": {},
     "output_type": "execute_result"
    }
   ],
   "source": [
    "8==3"
   ]
  },
  {
   "cell_type": "code",
   "execution_count": 59,
   "id": "2f132b56",
   "metadata": {},
   "outputs": [
    {
     "data": {
      "text/plain": [
       "True"
      ]
     },
     "execution_count": 59,
     "metadata": {},
     "output_type": "execute_result"
    }
   ],
   "source": [
    "8!=3"
   ]
  },
  {
   "cell_type": "code",
   "execution_count": 60,
   "id": "f4968537",
   "metadata": {},
   "outputs": [
    {
     "name": "stdout",
     "output_type": "stream",
     "text": [
      "Atleast one number has boolean value as False\n"
     ]
    }
   ],
   "source": [
    "# Python program to demonstrate\n",
    "# logical and operator\n",
    "\n",
    "a = 10\n",
    "b = 12\n",
    "c = 0\n",
    "\n",
    "if a and b and c:\n",
    "\tprint(\"All the numbers have boolean value as True\")\n",
    "else:\n",
    "\tprint(\"Atleast one number has boolean value as False\")\n"
   ]
  },
  {
   "cell_type": "code",
   "execution_count": 61,
   "id": "154f4a2f",
   "metadata": {},
   "outputs": [
    {
     "name": "stdout",
     "output_type": "stream",
     "text": [
      "Either of the number is greater than 0\n",
      "No number is greater than 0\n"
     ]
    }
   ],
   "source": [
    "# Python program to demonstrate\n",
    "# logical or operator\n",
    "\n",
    "a = 10\n",
    "b = -10\n",
    "c = 0\n",
    "\n",
    "if a > 0 or b > 0:\n",
    "\tprint(\"Either of the number is greater than 0\")\n",
    "else:\n",
    "\tprint(\"No number is greater than 0\")\n",
    "\n",
    "if b > 0 or c > 0:\n",
    "\tprint(\"Either of the number is greater than 0\")\n",
    "else:\n",
    "\tprint(\"No number is greater than 0\")\n"
   ]
  },
  {
   "cell_type": "code",
   "execution_count": 62,
   "id": "91b5bc2f",
   "metadata": {},
   "outputs": [
    {
     "name": "stdout",
     "output_type": "stream",
     "text": [
      "Atleast one number has boolean value as True\n"
     ]
    }
   ],
   "source": [
    "# Python program to demonstrate\n",
    "# logical and operator\n",
    "\n",
    "a = 10\n",
    "b = 12\n",
    "c = 0\n",
    "\n",
    "if a or b or c:\n",
    "\tprint(\"Atleast one number has boolean value as True\")\n",
    "else:\n",
    "\tprint(\"All the numbers have boolean value as False\")\n"
   ]
  },
  {
   "cell_type": "code",
   "execution_count": 63,
   "id": "cf530b60",
   "metadata": {},
   "outputs": [
    {
     "name": "stdout",
     "output_type": "stream",
     "text": [
      "10 is divisible by either 3 or 5\n"
     ]
    }
   ],
   "source": [
    "# Python program to demonstrate\n",
    "# logical not operator\n",
    "\n",
    "a = 10\n",
    "\n",
    "if not a:\n",
    "\tprint(\"Boolean value of a is True\")\n",
    "\n",
    "if not (a%3 == 0 or a%5 == 0):\n",
    "\tprint(\"10 is not divisible by either 3 or 5\")\n",
    "else:\n",
    "\tprint(\"10 is divisible by either 3 or 5\")\n"
   ]
  },
  {
   "cell_type": "code",
   "execution_count": 64,
   "id": "584d16ff",
   "metadata": {},
   "outputs": [
    {
     "name": "stdout",
     "output_type": "stream",
     "text": [
      "Method called for value: -1\n",
      "Method called for value: 5\n",
      "Atleast one of the number is positive\n"
     ]
    }
   ],
   "source": [
    "# In the case of multiple operators, Python always evaluates the expression from left to right. This can be verified by the below example.\n",
    "# Python program to demonstrate\n",
    "# order of evaluation of logical\n",
    "# operators\n",
    "\n",
    "def order(x):\n",
    "\tprint(\"Method called for value:\", x)\n",
    "\treturn True if x > 0 else False\n",
    "\t\n",
    "a = order\n",
    "b = order\n",
    "c = order\n",
    "\n",
    "if a(-1) or b(5) or c(10):\n",
    "\tprint(\"Atleast one of the number is positive\")\n"
   ]
  },
  {
   "cell_type": "code",
   "execution_count": 65,
   "id": "9f1a9594",
   "metadata": {},
   "outputs": [
    {
     "data": {
      "text/plain": [
       "1"
      ]
     },
     "execution_count": 65,
     "metadata": {},
     "output_type": "execute_result"
    }
   ],
   "source": [
    "15&17"
   ]
  },
  {
   "cell_type": "code",
   "execution_count": 66,
   "id": "55c3df8f",
   "metadata": {},
   "outputs": [
    {
     "name": "stdout",
     "output_type": "stream",
     "text": [
      "a & b = 1\n",
      "a | b = 31\n",
      "~a = -16\n",
      "a ^ b = 30\n"
     ]
    }
   ],
   "source": [
    "# Python program to show\n",
    "# bitwise operators\n",
    "\n",
    "a = 15\n",
    "b = 17\n",
    "\n",
    "# Print bitwise AND operation\n",
    "print(\"a & b =\", a & b)\n",
    "\n",
    "# Print bitwise OR operation\n",
    "print(\"a | b =\", a | b)\n",
    "\n",
    "# Print bitwise NOT operation\n",
    "print(\"~a =\", ~a)\n",
    "\n",
    "# print bitwise XOR operation\n",
    "print(\"a ^ b =\", a ^ b)\n"
   ]
  },
  {
   "cell_type": "code",
   "execution_count": 67,
   "id": "a2a59800",
   "metadata": {},
   "outputs": [
    {
     "data": {
      "text/plain": [
       "31"
      ]
     },
     "execution_count": 67,
     "metadata": {},
     "output_type": "execute_result"
    }
   ],
   "source": [
    "15 | 17"
   ]
  },
  {
   "cell_type": "code",
   "execution_count": 68,
   "id": "25c37b03",
   "metadata": {},
   "outputs": [
    {
     "data": {
      "text/plain": [
       "30"
      ]
     },
     "execution_count": 68,
     "metadata": {},
     "output_type": "execute_result"
    }
   ],
   "source": [
    "15 ^ 17"
   ]
  },
  {
   "cell_type": "markdown",
   "id": "8f6c0a6f",
   "metadata": {},
   "source": [
    "OPERATOR\tDESCRIPTION\tSYNTAX\n",
    "&\tBitwise AND\tx & y\n",
    "|\tBitwise OR\tx | y\n",
    "~\tBitwise NOT\t~x\n",
    "^\tBitwise XOR\tx ^ y\n",
    ">>\tBitwise right shift\tx>>\n",
    "<<\tBitwise left shift\tx<<"
   ]
  },
  {
   "cell_type": "code",
   "execution_count": 74,
   "id": "75c29a0c",
   "metadata": {},
   "outputs": [
    {
     "data": {
      "text/plain": [
       "-16"
      ]
     },
     "execution_count": 74,
     "metadata": {},
     "output_type": "execute_result"
    }
   ],
   "source": [
    "~15"
   ]
  },
  {
   "cell_type": "code",
   "execution_count": 78,
   "id": "d7d57e7f",
   "metadata": {},
   "outputs": [
    {
     "name": "stdout",
     "output_type": "stream",
     "text": [
      "Value of x: 50\n",
      "Value of y: 10\n"
     ]
    }
   ],
   "source": [
    "# Swap the Contents of two Numbers using Bitwise XOR Operation\n",
    "# Python program to demonstrate\n",
    "# Swapping of two variables\n",
    "\n",
    "x = 10\n",
    "y = 50\n",
    "\n",
    "# Swapping using xor\n",
    "x = x ^ y\n",
    "y = x ^ y\n",
    "x = x ^ y\n",
    "\n",
    "print(\"Value of x:\", x)\n",
    "print(\"Value of y:\", y)\n"
   ]
  },
  {
   "cell_type": "code",
   "execution_count": 79,
   "id": "ad87a5ba",
   "metadata": {},
   "outputs": [
    {
     "name": "stdout",
     "output_type": "stream",
     "text": [
      "Value of x: 50\n",
      "Value of y: 10\n"
     ]
    }
   ],
   "source": [
    "# Python program to demonstrate\n",
    "# swapping of two variables\n",
    "\n",
    "x = 10\n",
    "y = 50\n",
    "\n",
    "# Swapping of two variables\n",
    "# using arithmetic operations\n",
    "x = x + y\n",
    "y = x - y\n",
    "x = x - y\n",
    "\n",
    "print(\"Value of x:\", x)\n",
    "print(\"Value of y:\", y)\n"
   ]
  },
  {
   "cell_type": "code",
   "execution_count": 80,
   "id": "826a2496",
   "metadata": {},
   "outputs": [
    {
     "name": "stdout",
     "output_type": "stream",
     "text": [
      "Value of x :  50.0\n",
      "Value of y :  10.0\n"
     ]
    }
   ],
   "source": [
    "# Python program to demonstrate\n",
    "# swapping of two variables\n",
    "\n",
    "x = 10\n",
    "y = 50\n",
    "\n",
    "# Swapping of two numbers\n",
    "# Using multiplication operator\n",
    "\n",
    "x = x * y\n",
    "y = x / y\n",
    "x = x / y\n",
    "\n",
    "print(\"Value of x : \", x)\n",
    "print(\"Value of y : \", y)\n"
   ]
  },
  {
   "cell_type": "code",
   "execution_count": 81,
   "id": "d0be14ba",
   "metadata": {},
   "outputs": [
    {
     "name": "stdout",
     "output_type": "stream",
     "text": [
      "a after swapping:  1\n",
      "b after swapping:  5\n"
     ]
    }
   ],
   "source": [
    "# using Bitwise addition and subtraction for swapping.\n",
    "#Python program to demonstrate\n",
    "#swapping of two numbers\n",
    "a = 5\n",
    "b = 1\n",
    "a = (a & b) + (a | b)\n",
    "b = a + (~b) + 1\n",
    "a = a + (~b) + 1\n",
    "print(\"a after swapping: \", a)\n",
    "print(\"b after swapping: \", b)\n"
   ]
  },
  {
   "cell_type": "code",
   "execution_count": 82,
   "id": "d6dc53cc",
   "metadata": {},
   "outputs": [
    {
     "name": "stdout",
     "output_type": "stream",
     "text": [
      "16\n"
     ]
    }
   ],
   "source": [
    "# Python 3 program to multiply\n",
    "# a number with 4 using Bitwise\n",
    "# Operator\n",
    "\n",
    "# function the return multiply\n",
    "# a number with 4 using bitwise\n",
    "# operator\n",
    "def multiplyWith4(n):\n",
    "\n",
    "\t# returning a number with\n",
    "\t# multiply with 4 using2\n",
    "\t# bit shifring right\n",
    "\treturn (n << 2)\n",
    "\n",
    "# derive function\n",
    "n = 4\n",
    "print(multiplyWith4(n))\n",
    "\n",
    "# This code is contributed\n",
    "# by Smitha\n"
   ]
  },
  {
   "cell_type": "code",
   "execution_count": 85,
   "id": "0e417c8a",
   "metadata": {},
   "outputs": [
    {
     "name": "stdout",
     "output_type": "stream",
     "text": [
      "Enter first number:20\n",
      "Enter second number:10\n",
      "Largest is: 20\n"
     ]
    }
   ],
   "source": [
    "# find greatest between two numbers\n",
    "def largest(x, y):\n",
    "    if x > y:\n",
    "        return x\n",
    "    else:\n",
    "        return y\n",
    "\n",
    "\n",
    "x = int(input(\"Enter first number:\"));\n",
    "y = int(input(\"Enter second number:\"));\n",
    "\n",
    "result = largest(x, y);\n",
    "\n",
    "print(\"Largest is:\", result);"
   ]
  },
  {
   "cell_type": "code",
   "execution_count": 86,
   "id": "003be249",
   "metadata": {},
   "outputs": [
    {
     "name": "stdout",
     "output_type": "stream",
     "text": [
      "Enter first number: 10\n",
      "Enter second number: 5\n",
      "10 is divisible by 5\n"
     ]
    }
   ],
   "source": [
    "# Check whether first number is divisible by second number or not\n",
    "a = int(input(\"Enter first number: \"));\n",
    "b = int(input(\"Enter second number: \"));\n",
    "\n",
    "if a % b == 0:\n",
    "    print(a, \"is divisible by\", b);\n",
    "else:\n",
    "    print(a, \"is not divisible by\", b);"
   ]
  },
  {
   "cell_type": "code",
   "execution_count": 88,
   "id": "8a0a6025",
   "metadata": {},
   "outputs": [
    {
     "name": "stdout",
     "output_type": "stream",
     "text": [
      "Enter a number: -3\n",
      "Negative number\n"
     ]
    }
   ],
   "source": [
    "\n",
    "# Check if a given Integer is Positive or Negative\n",
    "num = float(input(\"Enter a number: \"))\n",
    "if num > 0:\n",
    "   print(\"Positive number\")\n",
    "elif num == 0:\n",
    "   print(\"Zero\")\n",
    "else:\n",
    "   print(\"Negative number\")"
   ]
  },
  {
   "cell_type": "code",
   "execution_count": 89,
   "id": "5495b9fa",
   "metadata": {},
   "outputs": [
    {
     "name": "stdout",
     "output_type": "stream",
     "text": [
      "Enter a number: 40\n",
      "40 is Even\n"
     ]
    }
   ],
   "source": [
    "# Check if a given Integer is Odd or Even\n",
    "# Python program to check if the input number is odd or even.\n",
    "# A number is even if division by 2 gives a remainder of 0.\n",
    "# If the remainder is 1, it is an odd number.\n",
    "\n",
    "num = int(input(\"Enter a number: \"))\n",
    "if (num % 2) == 0:\n",
    "   print(\"{0} is Even\".format(num))\n",
    "else:\n",
    "   print(\"{0} is Odd\".format(num))"
   ]
  },
  {
   "cell_type": "code",
   "execution_count": 90,
   "id": "0091f73e",
   "metadata": {},
   "outputs": [
    {
     "name": "stdout",
     "output_type": "stream",
     "text": [
      "True\n",
      "False\n"
     ]
    }
   ],
   "source": [
    "def multiple(m, n):\n",
    "\treturn True if m % n == 0 else False\n",
    "\n",
    "print(multiple(20, 5))\n",
    "print(multiple(7, 2))"
   ]
  },
  {
   "cell_type": "code",
   "execution_count": 92,
   "id": "f46382c8",
   "metadata": {},
   "outputs": [
    {
     "name": "stdout",
     "output_type": "stream",
     "text": [
      "Yes\n"
     ]
    }
   ],
   "source": [
    "# Python program to find if a number is\n",
    "# divisible by 5 or not\n",
    "\n",
    "# Function to find that number divisible\n",
    "# by 5 or not. The function assumes that\n",
    "# string length is at least one.\n",
    "def isDivisibleBy5(st) :\n",
    "\tn = len(st)\n",
    "\treturn ( (st[n-1] == '0') or\n",
    "\t\t(st[n-1] == '5'))\n",
    "\n",
    "# Driver code\n",
    "st = \"76955\"\n",
    "if isDivisibleBy5(st) :\n",
    "\tprint(\"Yes\");\n",
    "else :\n",
    "\tprint(\"No\");\n",
    "\t\n",
    "\n"
   ]
  },
  {
   "cell_type": "code",
   "execution_count": 8,
   "id": "f1375456",
   "metadata": {},
   "outputs": [
    {
     "name": "stdout",
     "output_type": "stream",
     "text": [
      "Not Divisible\n"
     ]
    }
   ],
   "source": [
    "# Python program to check whether a number is divisible by 7\n",
    "\n",
    "# Function to check whether a number is divisible by 7\n",
    "def isDivisibleBy7(num) :\n",
    "\t\n",
    "\t# If number is negative, make it positive\n",
    "\tif num < 0 :\n",
    "\t\treturn isDivisibleBy7( -num )\n",
    "\n",
    "\t# Base cases\n",
    "\tif( num == 0 or num == 7 ) :\n",
    "\t\treturn True\n",
    "\t\n",
    "\tif( num < 10 ) :\n",
    "\t\treturn False\n",
    "\t\t\n",
    "\t# Recur for ( num / 10 - 2 * num % 10 )\n",
    "\treturn isDivisibleBy7( num / 10 - 2 * ( num - num / 10 * 10 ) )\n",
    "\t\n",
    "# Driver program\n",
    "num = 14;\n",
    "if(isDivisibleBy7(num)) :\n",
    "\tprint(\"Divisible\");\n",
    "else :\n",
    "\tprint(\"Not Divisible\");\n",
    "\n"
   ]
  },
  {
   "cell_type": "code",
   "execution_count": 5,
   "id": "c18627ee",
   "metadata": {},
   "outputs": [
    {
     "name": "stdout",
     "output_type": "stream",
     "text": [
      "Not Same\n"
     ]
    }
   ],
   "source": [
    "# Finds if a and b are same.\n",
    "def areSame(a, b):\n",
    "    if (a ^ b):\n",
    "        print(\"Not Same\");\n",
    "    else:\n",
    "        print(\"Same\");\n",
    "\n",
    "# Driver code\n",
    "areSame(10, 20)\n"
   ]
  },
  {
   "cell_type": "code",
   "execution_count": null,
   "id": "4bd41e57",
   "metadata": {},
   "outputs": [],
   "source": []
  },
  {
   "cell_type": "code",
   "execution_count": null,
   "id": "3badfc30",
   "metadata": {},
   "outputs": [],
   "source": []
  }
 ],
 "metadata": {
  "kernelspec": {
   "display_name": "Python 3 (ipykernel)",
   "language": "python",
   "name": "python3"
  },
  "language_info": {
   "codemirror_mode": {
    "name": "ipython",
    "version": 3
   },
   "file_extension": ".py",
   "mimetype": "text/x-python",
   "name": "python",
   "nbconvert_exporter": "python",
   "pygments_lexer": "ipython3",
   "version": "3.9.13"
  }
 },
 "nbformat": 4,
 "nbformat_minor": 5
}
